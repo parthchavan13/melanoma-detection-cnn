{
 "cells": [
  {
   "cell_type": "code",
   "execution_count": 2,
   "metadata": {},
   "outputs": [],
   "source": [
    "import tensorflow as tf\n",
    "from tensorflow.keras.preprocessing import image\n",
    "import numpy as np\n",
    "import os"
   ]
  },
  {
   "cell_type": "code",
   "execution_count": null,
   "metadata": {},
   "outputs": [],
   "source": [
    "# Load the trained model\n",
    "model = tf.keras.models.load_model('melanoma_cnn_model.h5')"
   ]
  },
  {
   "cell_type": "code",
   "execution_count": 4,
   "metadata": {},
   "outputs": [],
   "source": [
    "# Function to preprocess and predict an image\n",
    "def predict_image(img_path, model):\n",
    "    \"\"\"\n",
    "    Preprocess the image and predict its class using the trained model.\n",
    "    Args:\n",
    "        img_path (str): Path to the image file.\n",
    "        model (tf.keras.Model): Loaded Keras model.\n",
    "    Returns:\n",
    "        str: Predicted class label (\"Benign\" or \"Malignant\").\n",
    "    \"\"\"\n",
    "    # Load the image\n",
    "    img = image.load_img(img_path, target_size=(128, 128))\n",
    "\n",
    "    # Convert the image to an array and normalize\n",
    "    img_array = image.img_to_array(img) / 255.0\n",
    "\n",
    "    # Add batch dimension\n",
    "    img_array = np.expand_dims(img_array, axis=0)\n",
    "\n",
    "    # Predict\n",
    "    prediction = model.predict(img_array)\n",
    "    return \"Malignant\" if prediction > 0.5 else \"Benign\""
   ]
  },
  {
   "cell_type": "code",
   "execution_count": null,
   "metadata": {},
   "outputs": [],
   "source": [
    "# Directory containing images for inference\n",
    "inference_dir = \"test\"\n",
    "\n",
    "# List all images in the directory\n",
    "image_files = [f for f in os.listdir(inference_dir) if f.endswith(('.jpg', '.png', '.jpeg', '.JPG', '.PNG', '.JPEG'))]\n",
    "\n",
    "# Run inference on each image\n",
    "for img_file in image_files:\n",
    "    img_path = os.path.join(inference_dir, img_file)\n",
    "    result = predict_image(img_path, model)\n",
    "    print(f\"Image: {img_file} -> Prediction: {result}\")\n"
   ]
  }
 ],
 "metadata": {
  "kernelspec": {
   "display_name": "Python 3",
   "language": "python",
   "name": "python3"
  },
  "language_info": {
   "codemirror_mode": {
    "name": "ipython",
    "version": 3
   },
   "file_extension": ".py",
   "mimetype": "text/x-python",
   "name": "python",
   "nbconvert_exporter": "python",
   "pygments_lexer": "ipython3",
   "version": "3.12.0"
  }
 },
 "nbformat": 4,
 "nbformat_minor": 2
}
